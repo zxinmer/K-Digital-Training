{
 "cells": [
  {
   "cell_type": "code",
   "execution_count": 2,
   "id": "2a36e903-0f57-4259-a60f-7734234318cd",
   "metadata": {},
   "outputs": [
    {
     "name": "stdout",
     "output_type": "stream",
     "text": [
      "파이썬 정말 재미있어요~\n",
      "파이썬 정말 재미있어요~\n",
      "파이썬 정말 재미있어요~\n",
      "파이썬 정말 재미있어요~\n",
      "파이썬 정말 재미있어요~\n",
      "파이썬 정말 재미있어요~\n",
      "파이썬 정말 재미있어요~\n",
      "파이썬 정말 재미있어요~\n",
      "파이썬 정말 재미있어요~\n",
      "파이썬 정말 재미있어요~\n",
      "파이썬 정말 재미있어요~\n",
      "파이썬 정말 재미있어요~\n",
      "파이썬 정말 재미있어요~\n",
      "파이썬 정말 재미있어요~\n",
      "파이썬 정말 재미있어요~\n",
      "파이썬 정말 재미있어요~\n",
      "파이썬 정말 재미있어요~\n",
      "파이썬 정말 재미있어요~\n",
      "파이썬 정말 재미있어요~\n",
      "파이썬 정말 재미있어요~\n",
      "파이썬 정말 재미있어요~\n",
      "파이썬 정말 재미있어요~\n",
      "파이썬 정말 재미있어요~\n",
      "파이썬 정말 재미있어요~\n",
      "파이썬 정말 재미있어요~\n",
      "파이썬 정말 재미있어요~\n",
      "파이썬 정말 재미있어요~\n",
      "파이썬 정말 재미있어요~\n",
      "파이썬 정말 재미있어요~\n",
      "파이썬 정말 재미있어요~\n",
      "파이썬 정말 재미있어요~\n",
      "파이썬 정말 재미있어요~\n",
      "파이썬 정말 재미있어요~\n",
      "파이썬 정말 재미있어요~\n",
      "파이썬 정말 재미있어요~\n",
      "파이썬 정말 재미있어요~\n",
      "파이썬 정말 재미있어요~\n",
      "파이썬 정말 재미있어요~\n",
      "파이썬 정말 재미있어요~\n",
      "파이썬 정말 재미있어요~\n",
      "파이썬 정말 재미있어요~\n",
      "파이썬 정말 재미있어요~\n",
      "파이썬 정말 재미있어요~\n",
      "파이썬 정말 재미있어요~\n",
      "파이썬 정말 재미있어요~\n"
     ]
    }
   ],
   "source": [
    "for i in range(1,10) :\n",
    "    for k in range (0, 10, 2) :\n",
    "        print(\"파이썬 정말 재미있어요~\")"
   ]
  },
  {
   "cell_type": "code",
   "execution_count": 4,
   "id": "5846fed5-fef1-4316-9da3-c3585a422e51",
   "metadata": {},
   "outputs": [
    {
     "ename": "SyntaxError",
     "evalue": "invalid syntax (<ipython-input-4-d53d4f0a5a60>, line 4)",
     "output_type": "error",
     "traceback": [
      "\u001b[1;36m  File \u001b[1;32m\"<ipython-input-4-d53d4f0a5a60>\"\u001b[1;36m, line \u001b[1;32m4\u001b[0m\n\u001b[1;33m    elif score >= 40 :\u001b[0m\n\u001b[1;37m       ^\u001b[0m\n\u001b[1;31mSyntaxError\u001b[0m\u001b[1;31m:\u001b[0m invalid syntax\n"
     ]
    }
   ],
   "source": [
    "score=55\n",
    "if score >= 60 :\n",
    "    print(\"합격이다.\")\n",
    "    elif score >= 40 :\n",
    "        print(\"불합격 이지만 과락은 아닙니다.\")\n",
    "        else :\n",
    "            print(\"불합격 이면서 과락입니다.\")"
   ]
  },
  {
   "cell_type": "code",
   "execution_count": 5,
   "id": "5f10df24-60c2-4008-b1a5-83d1a9cc14c6",
   "metadata": {},
   "outputs": [
    {
     "data": {
      "text/plain": [
       "{1, 2, 3}"
      ]
     },
     "execution_count": 5,
     "metadata": {},
     "output_type": "execute_result"
    }
   ],
   "source": [
    "myData = { 1, 1, 1, 2, 2, 3, 3, 3 }\n",
    "myData"
   ]
  },
  {
   "cell_type": "code",
   "execution_count": 6,
   "id": "86be3e3a-614c-42a5-9f14-98d24605c62a",
   "metadata": {},
   "outputs": [
    {
     "name": "stdout",
     "output_type": "stream",
     "text": [
      "['January', 'February', 'March', 'April']\n"
     ]
    }
   ],
   "source": [
    "months = ['January', 'February', 'March']\n",
    "months.append('April')\n",
    "print(months)"
   ]
  },
  {
   "cell_type": "code",
   "execution_count": 7,
   "id": "3c817a92-03d7-4962-a611-e31d023448eb",
   "metadata": {},
   "outputs": [
    {
     "data": {
      "text/plain": [
       "10"
      ]
     },
     "execution_count": 7,
     "metadata": {},
     "output_type": "execute_result"
    }
   ],
   "source": [
    "import numpy as np\n",
    "array1 = np.array([2, 4, 6, 8, 10])\n",
    "array1.max()"
   ]
  },
  {
   "cell_type": "code",
   "execution_count": 9,
   "id": "3c80cd81-8ee3-48de-b633-2434522fe686",
   "metadata": {},
   "outputs": [
    {
     "data": {
      "text/plain": [
       "('banana', 'plum', 'watermelon')"
      ]
     },
     "execution_count": 9,
     "metadata": {},
     "output_type": "execute_result"
    }
   ],
   "source": [
    "fruits = ('apple', 'banana', 'plum', 'watermelon', 'peach')\n",
    "\n",
    "fruits[1:4]\n"
   ]
  },
  {
   "cell_type": "code",
   "execution_count": 10,
   "id": "47273f81-58f6-42bd-8e24-b787c5028404",
   "metadata": {},
   "outputs": [
    {
     "data": {
      "text/plain": [
       "6"
      ]
     },
     "execution_count": 10,
     "metadata": {},
     "output_type": "execute_result"
    }
   ],
   "source": [
    "inStr, outStr = 'Python', ''\n",
    "strLen = len(inStr)\n",
    "strLen"
   ]
  },
  {
   "cell_type": "code",
   "execution_count": 14,
   "id": "89b69b77-c838-405e-a6bc-b46d176a7b44",
   "metadata": {},
   "outputs": [
    {
     "name": "stdout",
     "output_type": "stream",
     "text": [
      "내용을 거꾸로 출력 : nohtyP\n"
     ]
    }
   ],
   "source": [
    "inStr, outStr = 'Python', ''\n",
    "strLen = len(inStr)\n",
    "for i in range(0, strLen):\n",
    "    outStr += ( inStr[strLen - (i+1)])\n",
    "print('내용을 거꾸로 출력 : %s' % outStr)"
   ]
  },
  {
   "cell_type": "code",
   "execution_count": null,
   "id": "36537d50-768d-4aeb-8a4e-cfd7a2668f32",
   "metadata": {},
   "outputs": [],
   "source": []
  }
 ],
 "metadata": {
  "kernelspec": {
   "display_name": "Python Multi",
   "language": "python",
   "name": "multi"
  },
  "language_info": {
   "codemirror_mode": {
    "name": "ipython",
    "version": 3
   },
   "file_extension": ".py",
   "mimetype": "text/x-python",
   "name": "python",
   "nbconvert_exporter": "python",
   "pygments_lexer": "ipython3",
   "version": "3.7.6"
  }
 },
 "nbformat": 4,
 "nbformat_minor": 5
}
